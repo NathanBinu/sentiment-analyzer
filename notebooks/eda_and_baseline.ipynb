{
 "cells": [
  {
   "cell_type": "markdown",
   "metadata": {},
   "source": [
    "# EDA & Baseline Modeling\n",
    "\n",
    "**Goals**  \n",
    "1. Inspect raw data (`data/raw_posts.csv`)  \n",
    "2. Visualize text lengths & label distribution  \n",
    "3. Tweak cleaning rules  \n",
    "4. Prototype TF-IDF → LogisticRegression pipeline  \n"
   ]
  },
  {
   "cell_type": "code",
   "execution_count": 15,
   "metadata": {},
   "outputs": [
    {
     "name": "stderr",
     "output_type": "stream",
     "text": [
      "[nltk_data] Downloading package vader_lexicon to\n",
      "[nltk_data]     /Users/NathanB/nltk_data...\n",
      "[nltk_data]   Package vader_lexicon is already up-to-date!\n"
     ]
    }
   ],
   "source": [
    "import pandas as pd\n",
    "import matplotlib.pyplot as plt\n",
    "from sklearn.feature_extraction.text import TfidfVectorizer\n",
    "from sklearn.linear_model import LogisticRegression\n",
    "from sklearn.model_selection import train_test_split\n",
    "from sklearn.metrics import classification_report\n",
    "import re\n",
    "import nltk\n",
    "nltk.download(\"vader_lexicon\")\n",
    "\n",
    "# Optional: make plots appear inline\n",
    "%matplotlib inline\n"
   ]
  },
  {
   "cell_type": "code",
   "execution_count": 16,
   "metadata": {},
   "outputs": [
    {
     "name": "stdout",
     "output_type": "stream",
     "text": [
      "Rows, Columns: (400, 3)\n"
     ]
    },
    {
     "data": {
      "text/html": [
       "<div>\n",
       "<style scoped>\n",
       "    .dataframe tbody tr th:only-of-type {\n",
       "        vertical-align: middle;\n",
       "    }\n",
       "\n",
       "    .dataframe tbody tr th {\n",
       "        vertical-align: top;\n",
       "    }\n",
       "\n",
       "    .dataframe thead th {\n",
       "        text-align: right;\n",
       "    }\n",
       "</style>\n",
       "<table border=\"1\" class=\"dataframe\">\n",
       "  <thead>\n",
       "    <tr style=\"text-align: right;\">\n",
       "      <th></th>\n",
       "      <th>id</th>\n",
       "      <th>created_utc</th>\n",
       "      <th>text</th>\n",
       "    </tr>\n",
       "  </thead>\n",
       "  <tbody>\n",
       "    <tr>\n",
       "      <th>0</th>\n",
       "      <td>1klqw0x</td>\n",
       "      <td>1.747155e+09</td>\n",
       "      <td>President Zelensky insists on swift meeting wi...</td>\n",
       "    </tr>\n",
       "    <tr>\n",
       "      <th>1</th>\n",
       "      <td>1klqque</td>\n",
       "      <td>1.747155e+09</td>\n",
       "      <td>US issues travel warning for South American co...</td>\n",
       "    </tr>\n",
       "    <tr>\n",
       "      <th>2</th>\n",
       "      <td>1klqnt9</td>\n",
       "      <td>1.747154e+09</td>\n",
       "      <td>Ukraine Reveals S-200 System Linked to Downed ...</td>\n",
       "    </tr>\n",
       "    <tr>\n",
       "      <th>3</th>\n",
       "      <td>1klqjkz</td>\n",
       "      <td>1.747154e+09</td>\n",
       "      <td>Trump says will remove US sanctions on Syria</td>\n",
       "    </tr>\n",
       "    <tr>\n",
       "      <th>4</th>\n",
       "      <td>1klqihm</td>\n",
       "      <td>1.747154e+09</td>\n",
       "      <td>Trump secures $600 billion Saudi investment pl...</td>\n",
       "    </tr>\n",
       "  </tbody>\n",
       "</table>\n",
       "</div>"
      ],
      "text/plain": [
       "        id   created_utc                                               text\n",
       "0  1klqw0x  1.747155e+09  President Zelensky insists on swift meeting wi...\n",
       "1  1klqque  1.747155e+09  US issues travel warning for South American co...\n",
       "2  1klqnt9  1.747154e+09  Ukraine Reveals S-200 System Linked to Downed ...\n",
       "3  1klqjkz  1.747154e+09      Trump says will remove US sanctions on Syria \n",
       "4  1klqihm  1.747154e+09  Trump secures $600 billion Saudi investment pl..."
      ]
     },
     "execution_count": 16,
     "metadata": {},
     "output_type": "execute_result"
    }
   ],
   "source": [
    "# Adjust path if needed\n",
    "df = pd.read_csv(\"../data/raw_posts.csv\")\n",
    "print(\"Rows, Columns:\", df.shape)\n",
    "df.head()\n"
   ]
  },
  {
   "cell_type": "code",
   "execution_count": 17,
   "metadata": {},
   "outputs": [
    {
     "name": "stdout",
     "output_type": "stream",
     "text": [
      "<class 'pandas.core.frame.DataFrame'>\n",
      "RangeIndex: 400 entries, 0 to 399\n",
      "Data columns (total 3 columns):\n",
      " #   Column       Non-Null Count  Dtype  \n",
      "---  ------       --------------  -----  \n",
      " 0   id           400 non-null    object \n",
      " 1   created_utc  400 non-null    float64\n",
      " 2   text         400 non-null    object \n",
      "dtypes: float64(1), object(2)\n",
      "memory usage: 9.5+ KB\n"
     ]
    },
    {
     "data": {
      "text/html": [
       "<div>\n",
       "<style scoped>\n",
       "    .dataframe tbody tr th:only-of-type {\n",
       "        vertical-align: middle;\n",
       "    }\n",
       "\n",
       "    .dataframe tbody tr th {\n",
       "        vertical-align: top;\n",
       "    }\n",
       "\n",
       "    .dataframe thead th {\n",
       "        text-align: right;\n",
       "    }\n",
       "</style>\n",
       "<table border=\"1\" class=\"dataframe\">\n",
       "  <thead>\n",
       "    <tr style=\"text-align: right;\">\n",
       "      <th></th>\n",
       "      <th>created_utc</th>\n",
       "    </tr>\n",
       "  </thead>\n",
       "  <tbody>\n",
       "    <tr>\n",
       "      <th>count</th>\n",
       "      <td>4.000000e+02</td>\n",
       "    </tr>\n",
       "    <tr>\n",
       "      <th>mean</th>\n",
       "      <td>1.746940e+09</td>\n",
       "    </tr>\n",
       "    <tr>\n",
       "      <th>std</th>\n",
       "      <td>1.462121e+05</td>\n",
       "    </tr>\n",
       "    <tr>\n",
       "      <th>min</th>\n",
       "      <td>1.746706e+09</td>\n",
       "    </tr>\n",
       "    <tr>\n",
       "      <th>25%</th>\n",
       "      <td>1.746804e+09</td>\n",
       "    </tr>\n",
       "    <tr>\n",
       "      <th>50%</th>\n",
       "      <td>1.746945e+09</td>\n",
       "    </tr>\n",
       "    <tr>\n",
       "      <th>75%</th>\n",
       "      <td>1.747068e+09</td>\n",
       "    </tr>\n",
       "    <tr>\n",
       "      <th>max</th>\n",
       "      <td>1.747155e+09</td>\n",
       "    </tr>\n",
       "  </tbody>\n",
       "</table>\n",
       "</div>"
      ],
      "text/plain": [
       "        created_utc\n",
       "count  4.000000e+02\n",
       "mean   1.746940e+09\n",
       "std    1.462121e+05\n",
       "min    1.746706e+09\n",
       "25%    1.746804e+09\n",
       "50%    1.746945e+09\n",
       "75%    1.747068e+09\n",
       "max    1.747155e+09"
      ]
     },
     "execution_count": 17,
     "metadata": {},
     "output_type": "execute_result"
    }
   ],
   "source": [
    "df.info()      # dtype, non-null counts\n",
    "df.describe()  # numeric summaries (e.g. created_utc)\n"
   ]
  },
  {
   "cell_type": "code",
   "execution_count": 18,
   "metadata": {},
   "outputs": [
    {
     "data": {
      "image/png": "[encoded data removed]",
      "text/plain": [
       "<Figure size 640x480 with 1 Axes>"
      ]
     },
     "metadata": {},
     "output_type": "display_data"
    }
   ],
   "source": [
    "# Compute length of each post\n",
    "df[\"length\"] = df[\"text\"].str.len()\n",
    "\n",
    "# Quick histogram\n",
    "df[\"length\"].plot.hist(bins=30)\n",
    "plt.title(\"Distribution of Post Lengths\")\n",
    "plt.xlabel(\"Characters\")\n",
    "plt.show()\n"
   ]
  },
  {
   "cell_type": "code",
   "execution_count": 19,
   "metadata": {},
   "outputs": [
    {
     "data": {
      "image/png": "[encoded data removed]",
      "text/plain": [
       "<Figure size 640x480 with 1 Axes>"
      ]
     },
     "metadata": {},
     "output_type": "display_data"
    }
   ],
   "source": [
    "# Reproduce the same hack from your script:\n",
    "def clean_text(text):\n",
    "    text = re.sub(r\"http\\S+\", \"\", text)               # remove URLs\n",
    "    text = re.sub(r\"@\\w+\", \"\", text)                  # remove mentions\n",
    "    text = re.sub(r\"[^A-Za-z0-9\\s']\", \" \", text)      # keep only letters/numbers\n",
    "    return text.lower().strip()\n",
    "\n",
    "df[\"cleaned\"] = df[\"text\"].fillna(\"\").apply(clean_text)\n",
    "df[\"label\"]   = df[\"cleaned\"].apply(\n",
    "    lambda t: 1 if \"good\" in t else (0 if \"bad\" in t else 2)\n",
    ")\n",
    "\n",
    "# Show how many of each\n",
    "df[\"label\"].map({0:\"neg\", 1:\"pos\", 2:\"neu\"}).value_counts().plot.bar()\n",
    "plt.title(\"Label Distribution\")\n",
    "plt.ylabel(\"Count\")\n",
    "plt.show()\n"
   ]
  },
  {
   "cell_type": "code",
   "execution_count": 20,
   "metadata": {},
   "outputs": [
    {
     "name": "stdout",
     "output_type": "stream",
     "text": [
      "              precision    recall  f1-score   support\n",
      "\n",
      "           1       0.00      0.00      0.00         1\n",
      "           2       0.99      1.00      0.99        79\n",
      "\n",
      "    accuracy                           0.99        80\n",
      "   macro avg       0.49      0.50      0.50        80\n",
      "weighted avg       0.98      0.99      0.98        80\n",
      "\n"
     ]
    }
   ],
   "source": [
    "# Split\n",
    "X_train, X_test, y_train, y_test = train_test_split(\n",
    "    df[\"cleaned\"], df[\"label\"],\n",
    "    test_size=0.2, random_state=42\n",
    ")\n",
    "\n",
    "# Vectorize & train\n",
    "vect  = TfidfVectorizer(ngram_range=(1,2), max_features=5000)\n",
    "Xtr   = vect.fit_transform(X_train)\n",
    "Xte   = vect.transform(X_test)\n",
    "\n",
    "model = LogisticRegression(max_iter=200)\n",
    "model.fit(Xtr, y_train)\n",
    "\n",
    "# Evaluate\n",
    "y_pred = model.predict(Xte)\n",
    "print(classification_report(y_test, y_pred, zero_division=0))\n"
   ]
  },
  {
   "cell_type": "code",
   "execution_count": 21,
   "metadata": {},
   "outputs": [
    {
     "name": "stdout",
     "output_type": "stream",
     "text": [
      "Unigrams only:\n",
      "              precision    recall  f1-score   support\n",
      "\n",
      "           1       0.00      0.00      0.00         1\n",
      "           2       0.99      1.00      0.99        79\n",
      "\n",
      "    accuracy                           0.99        80\n",
      "   macro avg       0.49      0.50      0.50        80\n",
      "weighted avg       0.98      0.99      0.98        80\n",
      "\n",
      "2-grams, 10k features:\n",
      "              precision    recall  f1-score   support\n",
      "\n",
      "           1       0.00      0.00      0.00         1\n",
      "           2       0.99      1.00      0.99        79\n",
      "\n",
      "    accuracy                           0.99        80\n",
      "   macro avg       0.49      0.50      0.50        80\n",
      "weighted avg       0.98      0.99      0.98        80\n",
      "\n"
     ]
    }
   ],
   "source": [
    "# 1) Unigrams only\n",
    "vect1 = TfidfVectorizer(ngram_range=(1,1), max_features=3000)\n",
    "Xtr1  = vect1.fit_transform(X_train)\n",
    "Xte1  = vect1.transform(X_test)\n",
    "\n",
    "model1 = LogisticRegression(max_iter=200)\n",
    "model1.fit(Xtr1, y_train)\n",
    "print(\"Unigrams only:\")\n",
    "print(classification_report(y_test, model1.predict(Xte1), zero_division=0))\n",
    "\n",
    "# 2) Bigger vocab (1–2grams, 10k features)\n",
    "vect2 = TfidfVectorizer(ngram_range=(1,2), max_features=10000)\n",
    "Xtr2  = vect2.fit_transform(X_train)\n",
    "Xte2  = vect2.transform(X_test)\n",
    "\n",
    "model2 = LogisticRegression(max_iter=200)\n",
    "model2.fit(Xtr2, y_train)\n",
    "print(\"2-grams, 10k features:\")\n",
    "print(classification_report(y_test, model2.predict(Xte2), zero_division=0))\n"
   ]
  }
 ],
 "metadata": {
  "kernelspec": {
   "display_name": ".venv",
   "language": "python",
   "name": "python3"
  },
  "language_info": {
   "codemirror_mode": {
    "name": "ipython",
    "version": 3
   },
   "file_extension": ".py",
   "mimetype": "text/x-python",
   "name": "python",
   "nbconvert_exporter": "python",
   "pygments_lexer": "ipython3",
   "version": "3.13.0"
  }
 },
 "nbformat": 4,
 "nbformat_minor": 2
}
